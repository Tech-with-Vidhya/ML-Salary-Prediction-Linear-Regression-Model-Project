{
 "cells": [
  {
   "cell_type": "code",
   "execution_count": 1,
   "id": "53bd5b48-17d0-4997-99c3-587f0d99d42e",
   "metadata": {},
   "outputs": [
    {
     "name": "stdout",
     "output_type": "stream",
     "text": [
      "Import Completed\n"
     ]
    }
   ],
   "source": [
    "# Importing the initial set of python libraries\n",
    "\n",
    "import numpy as np\n",
    "import pandas as pd\n",
    "import matplotlib.pyplot as plt\n",
    "\n",
    "print(\"Import Completed\")"
   ]
  },
  {
   "cell_type": "code",
   "execution_count": 2,
   "id": "2d134953-e20c-4487-97dc-1ee3bf21b8e8",
   "metadata": {},
   "outputs": [
    {
     "name": "stdout",
     "output_type": "stream",
     "text": [
      "Data Load Completed\n"
     ]
    }
   ],
   "source": [
    "# Loading the dataset\n",
    "\n",
    "df = pd.read_csv(\"data/Salary_Data.csv\")\n",
    "\n",
    "print(\"Data Load Completed\")"
   ]
  },
  {
   "cell_type": "code",
   "execution_count": 3,
   "id": "67d35ed0-10f8-4456-918f-d357c1a6a905",
   "metadata": {},
   "outputs": [
    {
     "data": {
      "text/html": [
       "<div>\n",
       "<style scoped>\n",
       "    .dataframe tbody tr th:only-of-type {\n",
       "        vertical-align: middle;\n",
       "    }\n",
       "\n",
       "    .dataframe tbody tr th {\n",
       "        vertical-align: top;\n",
       "    }\n",
       "\n",
       "    .dataframe thead th {\n",
       "        text-align: right;\n",
       "    }\n",
       "</style>\n",
       "<table border=\"1\" class=\"dataframe\">\n",
       "  <thead>\n",
       "    <tr style=\"text-align: right;\">\n",
       "      <th></th>\n",
       "      <th>YearsExperience</th>\n",
       "      <th>Salary</th>\n",
       "    </tr>\n",
       "  </thead>\n",
       "  <tbody>\n",
       "    <tr>\n",
       "      <th>0</th>\n",
       "      <td>1.1</td>\n",
       "      <td>39343.0</td>\n",
       "    </tr>\n",
       "    <tr>\n",
       "      <th>1</th>\n",
       "      <td>1.3</td>\n",
       "      <td>46205.0</td>\n",
       "    </tr>\n",
       "    <tr>\n",
       "      <th>2</th>\n",
       "      <td>1.5</td>\n",
       "      <td>37731.0</td>\n",
       "    </tr>\n",
       "    <tr>\n",
       "      <th>3</th>\n",
       "      <td>2.0</td>\n",
       "      <td>43525.0</td>\n",
       "    </tr>\n",
       "    <tr>\n",
       "      <th>4</th>\n",
       "      <td>2.2</td>\n",
       "      <td>39891.0</td>\n",
       "    </tr>\n",
       "    <tr>\n",
       "      <th>5</th>\n",
       "      <td>2.9</td>\n",
       "      <td>56642.0</td>\n",
       "    </tr>\n",
       "    <tr>\n",
       "      <th>6</th>\n",
       "      <td>3.0</td>\n",
       "      <td>60150.0</td>\n",
       "    </tr>\n",
       "    <tr>\n",
       "      <th>7</th>\n",
       "      <td>3.2</td>\n",
       "      <td>54445.0</td>\n",
       "    </tr>\n",
       "    <tr>\n",
       "      <th>8</th>\n",
       "      <td>3.2</td>\n",
       "      <td>64445.0</td>\n",
       "    </tr>\n",
       "    <tr>\n",
       "      <th>9</th>\n",
       "      <td>3.7</td>\n",
       "      <td>57189.0</td>\n",
       "    </tr>\n",
       "  </tbody>\n",
       "</table>\n",
       "</div>"
      ],
      "text/plain": [
       "   YearsExperience   Salary\n",
       "0              1.1  39343.0\n",
       "1              1.3  46205.0\n",
       "2              1.5  37731.0\n",
       "3              2.0  43525.0\n",
       "4              2.2  39891.0\n",
       "5              2.9  56642.0\n",
       "6              3.0  60150.0\n",
       "7              3.2  54445.0\n",
       "8              3.2  64445.0\n",
       "9              3.7  57189.0"
      ]
     },
     "execution_count": 3,
     "metadata": {},
     "output_type": "execute_result"
    }
   ],
   "source": [
    "# Displaying the first 10 rows of data\n",
    "\n",
    "df.head(10)"
   ]
  },
  {
   "cell_type": "code",
   "execution_count": 4,
   "id": "8b150b1c-77bb-4d0a-93e8-607f1c3416e2",
   "metadata": {},
   "outputs": [
    {
     "data": {
      "image/png": "[encoded data removed]",
      "text/plain": [
       "<Figure size 432x288 with 1 Axes>"
      ]
     },
     "metadata": {
      "needs_background": "light"
     },
     "output_type": "display_data"
    }
   ],
   "source": [
    "# Visualising the dataset as a scatter plot\n",
    "\n",
    "plt.scatter(df['YearsExperience'], df['Salary'], color='blue')\n",
    "plt.xlabel('Years of Experience')\n",
    "plt.ylabel('Salary')\n",
    "plt.title('Years of Experience versus Salary')\n",
    "plt.savefig('output/Years-of-Experience-versus-Salary-Scatterplot.jpg')\n",
    "plt.show()\n",
    "plt.close()"
   ]
  },
  {
   "cell_type": "code",
   "execution_count": 5,
   "id": "8d5f7249-290f-471c-b3ee-e99fb4827f32",
   "metadata": {},
   "outputs": [],
   "source": [
    "# Creating a numpy array of input and output data\n",
    "\n",
    "x = df.iloc[:,:-1].values\n",
    "y = df.iloc[:,-1].values"
   ]
  },
  {
   "cell_type": "code",
   "execution_count": 6,
   "id": "fe7225e9-c6a4-49a9-9f4f-b8074b958d8b",
   "metadata": {},
   "outputs": [
    {
     "name": "stdout",
     "output_type": "stream",
     "text": [
      "[[ 1.1]\n",
      " [ 1.3]\n",
      " [ 1.5]\n",
      " [ 2. ]\n",
      " [ 2.2]\n",
      " [ 2.9]\n",
      " [ 3. ]\n",
      " [ 3.2]\n",
      " [ 3.2]\n",
      " [ 3.7]\n",
      " [ 3.9]\n",
      " [ 4. ]\n",
      " [ 4. ]\n",
      " [ 4.1]\n",
      " [ 4.5]\n",
      " [ 4.9]\n",
      " [ 5.1]\n",
      " [ 5.3]\n",
      " [ 5.9]\n",
      " [ 6. ]\n",
      " [ 6.8]\n",
      " [ 7.1]\n",
      " [ 7.9]\n",
      " [ 8.2]\n",
      " [ 8.7]\n",
      " [ 9. ]\n",
      " [ 9.5]\n",
      " [ 9.6]\n",
      " [10.3]\n",
      " [10.5]]\n"
     ]
    }
   ],
   "source": [
    "# Viewing the input data as a numpy array\n",
    "\n",
    "print(x)"
   ]
  },
  {
   "cell_type": "code",
   "execution_count": 7,
   "id": "673f16b4-1edb-4c39-a903-93c32bfc910f",
   "metadata": {},
   "outputs": [
    {
     "name": "stdout",
     "output_type": "stream",
     "text": [
      "[ 39343.  46205.  37731.  43525.  39891.  56642.  60150.  54445.  64445.\n",
      "  57189.  63218.  55794.  56957.  57081.  61111.  67938.  66029.  83088.\n",
      "  81363.  93940.  91738.  98273. 101302. 113812. 109431. 105582. 116969.\n",
      " 112635. 122391. 121872.]\n"
     ]
    }
   ],
   "source": [
    "# Viewing the output data as a numpy array\n",
    "\n",
    "print(y)"
   ]
  },
  {
   "cell_type": "code",
   "execution_count": 8,
   "id": "93b9f5cb-b161-4cba-a971-415fa30c3420",
   "metadata": {},
   "outputs": [
    {
     "name": "stdout",
     "output_type": "stream",
     "text": [
      "Import Completed\n"
     ]
    }
   ],
   "source": [
    "# Importing the sklearn module and use the function \"train_test_split()\" for splitting the dataset into the train data and the test data\n",
    "\n",
    "from sklearn.model_selection import train_test_split\n",
    "\n",
    "print(\"Import Completed\")"
   ]
  },
  {
   "cell_type": "code",
   "execution_count": 9,
   "id": "1f200333-ab2e-4e0e-ac26-f8506f06a622",
   "metadata": {},
   "outputs": [],
   "source": [
    "# Splitting the dataset into 80% train data and 20% test data\n",
    "\n",
    "x_train, x_test, y_train, y_test = train_test_split(x, y, test_size=0.2, random_state=0)"
   ]
  },
  {
   "cell_type": "code",
   "execution_count": 10,
   "id": "0a2a3caf-93f3-4cff-bd9f-faa7b5b40824",
   "metadata": {},
   "outputs": [
    {
     "name": "stdout",
     "output_type": "stream",
     "text": [
      "The length of the input training dataset:  24\n",
      "[[ 9.6]\n",
      " [ 4. ]\n",
      " [ 5.3]\n",
      " [ 7.9]\n",
      " [ 2.9]\n",
      " [ 5.1]\n",
      " [ 3.2]\n",
      " [ 4.5]\n",
      " [ 8.2]\n",
      " [ 6.8]\n",
      " [ 1.3]\n",
      " [10.5]\n",
      " [ 3. ]\n",
      " [ 2.2]\n",
      " [ 5.9]\n",
      " [ 6. ]\n",
      " [ 3.7]\n",
      " [ 3.2]\n",
      " [ 9. ]\n",
      " [ 2. ]\n",
      " [ 1.1]\n",
      " [ 7.1]\n",
      " [ 4.9]\n",
      " [ 4. ]]\n"
     ]
    }
   ],
   "source": [
    "print(\"The length of the input training dataset: \", len(x_train))\n",
    "print(x_train)"
   ]
  },
  {
   "cell_type": "code",
   "execution_count": 11,
   "id": "ec05161e-e853-4c0c-b55f-96d42f49aec8",
   "metadata": {},
   "outputs": [
    {
     "name": "stdout",
     "output_type": "stream",
     "text": [
      "The length of the output training dataset:  24\n",
      "[112635.  55794.  83088. 101302.  56642.  66029.  64445.  61111. 113812.\n",
      "  91738.  46205. 121872.  60150.  39891.  81363.  93940.  57189.  54445.\n",
      " 105582.  43525.  39343.  98273.  67938.  56957.]\n"
     ]
    }
   ],
   "source": [
    "print(\"The length of the output training dataset: \", len(y_train))\n",
    "print(y_train)"
   ]
  },
  {
   "cell_type": "code",
   "execution_count": 12,
   "id": "9620a800-6d42-466f-aea0-c90277d0591a",
   "metadata": {},
   "outputs": [
    {
     "name": "stdout",
     "output_type": "stream",
     "text": [
      "The length of the input test dataset:  6\n",
      "[[ 1.5]\n",
      " [10.3]\n",
      " [ 4.1]\n",
      " [ 3.9]\n",
      " [ 9.5]\n",
      " [ 8.7]]\n"
     ]
    }
   ],
   "source": [
    "print(\"The length of the input test dataset: \", len(x_test))\n",
    "print(x_test)"
   ]
  },
  {
   "cell_type": "code",
   "execution_count": 13,
   "id": "de70d916-11d1-4842-a315-e0d08e408af3",
   "metadata": {},
   "outputs": [
    {
     "name": "stdout",
     "output_type": "stream",
     "text": [
      "The length of the output test dataset:  6\n",
      "[ 37731. 122391.  57081.  63218. 116969. 109431.]\n"
     ]
    }
   ],
   "source": [
    "print(\"The length of the output test dataset: \", len(y_test))\n",
    "print(y_test)"
   ]
  },
  {
   "cell_type": "code",
   "execution_count": 14,
   "id": "319ba834-a0cc-47eb-bae9-6424ec3c207f",
   "metadata": {},
   "outputs": [
    {
     "name": "stdout",
     "output_type": "stream",
     "text": [
      "Import Completed\n"
     ]
    }
   ],
   "source": [
    "# Importing the Linear Regression Model function from the python's sklearn package\n",
    "\n",
    "from sklearn.linear_model import LinearRegression\n",
    "\n",
    "print(\"Import Completed\")"
   ]
  },
  {
   "cell_type": "code",
   "execution_count": 15,
   "id": "8a07a144-b80b-4427-8595-85c04a670ab7",
   "metadata": {},
   "outputs": [
    {
     "data": {
      "text/plain": [
       "LinearRegression()"
      ]
     },
     "execution_count": 15,
     "metadata": {},
     "output_type": "execute_result"
    }
   ],
   "source": [
    "# Training the Linear Regression Model\n",
    "\n",
    "LR_model = LinearRegression()\n",
    "LR_model.fit(x_train, y_train)"
   ]
  },
  {
   "cell_type": "code",
   "execution_count": 16,
   "id": "5fafbc1e-4f8c-4c25-8010-efa71e4d2705",
   "metadata": {},
   "outputs": [
    {
     "name": "stdout",
     "output_type": "stream",
     "text": [
      "Test Prediction Execution Completed\n"
     ]
    }
   ],
   "source": [
    "# Linear Regression Model Predictions\n",
    "\n",
    "y_pred_test_LR_model = LR_model.predict(x_test)\n",
    "\n",
    "print(\"Test Prediction Execution Completed\")"
   ]
  },
  {
   "cell_type": "code",
   "execution_count": 17,
   "id": "4e5b50f3-d3a5-44b7-a8f5-9cf322c0b5cd",
   "metadata": {},
   "outputs": [
    {
     "name": "stdout",
     "output_type": "stream",
     "text": [
      "Actual Values of the Salaries on the test dataset:\n",
      " [ 37731. 122391.  57081.  63218. 116969. 109431.]\n",
      "\n",
      "Predicted Values of the Salaries on the test dataset:\n",
      " [ 40748.96184072 122699.62295594  64961.65717022  63099.14214487\n",
      " 115249.56285456 107799.50275317]\n"
     ]
    }
   ],
   "source": [
    "# Displaying the actual and the predicted values on the test dataset\n",
    "\n",
    "print(\"Actual Values of the Salaries on the test dataset:\\n\", y_test)\n",
    "print(\"\\nPredicted Values of the Salaries on the test dataset:\\n\", y_pred_test_LR_model)"
   ]
  },
  {
   "cell_type": "code",
   "execution_count": 18,
   "id": "161140b0-196f-4839-ada6-93129cfa72ef",
   "metadata": {},
   "outputs": [
    {
     "name": "stdout",
     "output_type": "stream",
     "text": [
      "The Prediction Errors of the Salaries:\n",
      " [-3017.96184072  -308.62295594 -7880.65717022   118.85785513\n",
      "  1719.43714544  1631.49724683]\n",
      "\n",
      "The Absolute Values of the Prediction Errors of the Salaries:\n",
      " [3017.96184072  308.62295594 7880.65717022  118.85785513 1719.43714544\n",
      " 1631.49724683]\n"
     ]
    }
   ],
   "source": [
    "# Calculating the error in the salary predictions for the test dataset\n",
    "\n",
    "error_test_LR = y_test - y_pred_test_LR_model\n",
    "print(\"The Prediction Errors of the Salaries:\\n\", error_test_LR)\n",
    "print(\"\\nThe Absolute Values of the Prediction Errors of the Salaries:\\n\", abs(error_test_LR))"
   ]
  },
  {
   "cell_type": "code",
   "execution_count": 19,
   "id": "9e9873b2-e2db-4224-a194-ca834dd20556",
   "metadata": {},
   "outputs": [
    {
     "data": {
      "text/html": [
       "<div>\n",
       "<style scoped>\n",
       "    .dataframe tbody tr th:only-of-type {\n",
       "        vertical-align: middle;\n",
       "    }\n",
       "\n",
       "    .dataframe tbody tr th {\n",
       "        vertical-align: top;\n",
       "    }\n",
       "\n",
       "    .dataframe thead th {\n",
       "        text-align: right;\n",
       "    }\n",
       "</style>\n",
       "<table border=\"1\" class=\"dataframe\">\n",
       "  <thead>\n",
       "    <tr style=\"text-align: right;\">\n",
       "      <th></th>\n",
       "      <th>Actual Salary (Test)</th>\n",
       "      <th>Predicted Salary (Test)</th>\n",
       "      <th>Error/Difference (Test)</th>\n",
       "      <th>Absolute Error/Difference (Test)</th>\n",
       "    </tr>\n",
       "  </thead>\n",
       "  <tbody>\n",
       "    <tr>\n",
       "      <th>0</th>\n",
       "      <td>37731.0</td>\n",
       "      <td>40748.961841</td>\n",
       "      <td>-3017.961841</td>\n",
       "      <td>3017.961841</td>\n",
       "    </tr>\n",
       "    <tr>\n",
       "      <th>1</th>\n",
       "      <td>122391.0</td>\n",
       "      <td>122699.622956</td>\n",
       "      <td>-308.622956</td>\n",
       "      <td>308.622956</td>\n",
       "    </tr>\n",
       "    <tr>\n",
       "      <th>2</th>\n",
       "      <td>57081.0</td>\n",
       "      <td>64961.657170</td>\n",
       "      <td>-7880.657170</td>\n",
       "      <td>7880.657170</td>\n",
       "    </tr>\n",
       "    <tr>\n",
       "      <th>3</th>\n",
       "      <td>63218.0</td>\n",
       "      <td>63099.142145</td>\n",
       "      <td>118.857855</td>\n",
       "      <td>118.857855</td>\n",
       "    </tr>\n",
       "    <tr>\n",
       "      <th>4</th>\n",
       "      <td>116969.0</td>\n",
       "      <td>115249.562855</td>\n",
       "      <td>1719.437145</td>\n",
       "      <td>1719.437145</td>\n",
       "    </tr>\n",
       "    <tr>\n",
       "      <th>5</th>\n",
       "      <td>109431.0</td>\n",
       "      <td>107799.502753</td>\n",
       "      <td>1631.497247</td>\n",
       "      <td>1631.497247</td>\n",
       "    </tr>\n",
       "  </tbody>\n",
       "</table>\n",
       "</div>"
      ],
      "text/plain": [
       "   Actual Salary (Test)  Predicted Salary (Test)  Error/Difference (Test)  \\\n",
       "0               37731.0             40748.961841             -3017.961841   \n",
       "1              122391.0            122699.622956              -308.622956   \n",
       "2               57081.0             64961.657170             -7880.657170   \n",
       "3               63218.0             63099.142145               118.857855   \n",
       "4              116969.0            115249.562855              1719.437145   \n",
       "5              109431.0            107799.502753              1631.497247   \n",
       "\n",
       "   Absolute Error/Difference (Test)  \n",
       "0                       3017.961841  \n",
       "1                        308.622956  \n",
       "2                       7880.657170  \n",
       "3                        118.857855  \n",
       "4                       1719.437145  \n",
       "5                       1631.497247  "
      ]
     },
     "execution_count": 19,
     "metadata": {},
     "output_type": "execute_result"
    }
   ],
   "source": [
    "# Displaying the actual versus predicted salary results with its error/differnce as a pandas dataframe for the test dataset\n",
    "\n",
    "res_test_df = pd.concat([pd.Series(y_test), pd.Series(y_pred_test_LR_model), pd.Series(error_test_LR), pd.Series(abs(error_test_LR))], axis=1)\n",
    "res_test_df.columns = ['Actual Salary (Test)', 'Predicted Salary (Test)', 'Error/Difference (Test)', 'Absolute Error/Difference (Test)']\n",
    "res_test_df"
   ]
  },
  {
   "cell_type": "code",
   "execution_count": 20,
   "id": "249ebe79-1791-4e35-a762-da5854bfaadb",
   "metadata": {},
   "outputs": [
    {
     "name": "stdout",
     "output_type": "stream",
     "text": [
      "Train Prediction Execution Completed\n"
     ]
    }
   ],
   "source": [
    "# Deriving the predicted salaries for the train dataset\n",
    "\n",
    "y_pred_train_LR_model = LR_model.predict(x_train)\n",
    "\n",
    "print(\"Train Prediction Execution Completed\")"
   ]
  },
  {
   "cell_type": "code",
   "execution_count": 21,
   "id": "170206f7-ee50-41d6-9bad-220d7629192f",
   "metadata": {},
   "outputs": [
    {
     "name": "stdout",
     "output_type": "stream",
     "text": [
      "Actual Values of the Salaries on the train dataset:\n",
      " [112635.  55794.  83088. 101302.  56642.  66029.  64445.  61111. 113812.\n",
      "  91738.  46205. 121872.  60150.  39891.  81363.  93940.  57189.  54445.\n",
      " 105582.  43525.  39343.  98273.  67938.  56957.]\n",
      "\n",
      "Predicted Values of the Salaries on the train dataset:\n",
      " [116180.82036723  64030.39965754  76136.74732229 100349.44265179\n",
      "  53786.56701814  74274.23229695  56580.33955616  68686.68722091\n",
      " 103143.21518981  90105.61001239  38886.44681538 124562.13798128\n",
      "  54717.82453082  47267.76442943  81724.29239833  82655.549911\n",
      "  61236.62711953  56580.33955616 110593.27529119  45405.24940409\n",
      "  37023.93179003  92899.38255041  72411.7172716   64030.39965754]\n"
     ]
    }
   ],
   "source": [
    "# Displaying the actual and the predicted values on the train dataset\n",
    "\n",
    "print(\"Actual Values of the Salaries on the train dataset:\\n\", y_train)\n",
    "print(\"\\nPredicted Values of the Salaries on the train dataset:\\n\", y_pred_train_LR_model)"
   ]
  },
  {
   "cell_type": "code",
   "execution_count": 22,
   "id": "1e97448a-ba29-456b-9673-fcdf5081aa31",
   "metadata": {},
   "outputs": [
    {
     "name": "stdout",
     "output_type": "stream",
     "text": [
      "The Prediction Errors of the Salaries:\n",
      " [-3545.82036723 -8236.39965754  6951.25267771   952.55734821\n",
      "  2855.43298186 -8245.23229695  7864.66044384 -7575.68722091\n",
      " 10668.78481019  1632.38998761  7318.55318462 -2690.13798128\n",
      "  5432.17546918 -7376.76442943  -361.29239833 11284.450089\n",
      " -4047.62711953 -2135.33955616 -5011.27529119 -1880.24940409\n",
      "  2319.06820997  5373.61744959 -4473.7172716  -7073.39965754]\n",
      "\n",
      "The Absolute Values of the Prediction Errors of the Salaries:\n",
      " [ 3545.82036723  8236.39965754  6951.25267771   952.55734821\n",
      "  2855.43298186  8245.23229695  7864.66044384  7575.68722091\n",
      " 10668.78481019  1632.38998761  7318.55318462  2690.13798128\n",
      "  5432.17546918  7376.76442943   361.29239833 11284.450089\n",
      "  4047.62711953  2135.33955616  5011.27529119  1880.24940409\n",
      "  2319.06820997  5373.61744959  4473.7172716   7073.39965754]\n"
     ]
    }
   ],
   "source": [
    "# Calculating the error in the salary predictions for the train dataset\n",
    "\n",
    "error_train_LR = y_train - y_pred_train_LR_model\n",
    "print(\"The Prediction Errors of the Salaries:\\n\", error_train_LR)\n",
    "print(\"\\nThe Absolute Values of the Prediction Errors of the Salaries:\\n\", abs(error_train_LR))"
   ]
  },
  {
   "cell_type": "code",
   "execution_count": 23,
   "id": "8a1febc5-f976-42cc-a8f2-a772ac6ce7c8",
   "metadata": {},
   "outputs": [
    {
     "data": {
      "text/html": [
       "<div>\n",
       "<style scoped>\n",
       "    .dataframe tbody tr th:only-of-type {\n",
       "        vertical-align: middle;\n",
       "    }\n",
       "\n",
       "    .dataframe tbody tr th {\n",
       "        vertical-align: top;\n",
       "    }\n",
       "\n",
       "    .dataframe thead th {\n",
       "        text-align: right;\n",
       "    }\n",
       "</style>\n",
       "<table border=\"1\" class=\"dataframe\">\n",
       "  <thead>\n",
       "    <tr style=\"text-align: right;\">\n",
       "      <th></th>\n",
       "      <th>Actual Salary (Train)</th>\n",
       "      <th>Predicted Salary (Train)</th>\n",
       "      <th>Error/Difference (Train)</th>\n",
       "      <th>Absolute Error/Difference (Train)</th>\n",
       "    </tr>\n",
       "  </thead>\n",
       "  <tbody>\n",
       "    <tr>\n",
       "      <th>0</th>\n",
       "      <td>112635.0</td>\n",
       "      <td>116180.820367</td>\n",
       "      <td>-3545.820367</td>\n",
       "      <td>3545.820367</td>\n",
       "    </tr>\n",
       "    <tr>\n",
       "      <th>1</th>\n",
       "      <td>55794.0</td>\n",
       "      <td>64030.399658</td>\n",
       "      <td>-8236.399658</td>\n",
       "      <td>8236.399658</td>\n",
       "    </tr>\n",
       "    <tr>\n",
       "      <th>2</th>\n",
       "      <td>83088.0</td>\n",
       "      <td>76136.747322</td>\n",
       "      <td>6951.252678</td>\n",
       "      <td>6951.252678</td>\n",
       "    </tr>\n",
       "    <tr>\n",
       "      <th>3</th>\n",
       "      <td>101302.0</td>\n",
       "      <td>100349.442652</td>\n",
       "      <td>952.557348</td>\n",
       "      <td>952.557348</td>\n",
       "    </tr>\n",
       "    <tr>\n",
       "      <th>4</th>\n",
       "      <td>56642.0</td>\n",
       "      <td>53786.567018</td>\n",
       "      <td>2855.432982</td>\n",
       "      <td>2855.432982</td>\n",
       "    </tr>\n",
       "    <tr>\n",
       "      <th>5</th>\n",
       "      <td>66029.0</td>\n",
       "      <td>74274.232297</td>\n",
       "      <td>-8245.232297</td>\n",
       "      <td>8245.232297</td>\n",
       "    </tr>\n",
       "    <tr>\n",
       "      <th>6</th>\n",
       "      <td>64445.0</td>\n",
       "      <td>56580.339556</td>\n",
       "      <td>7864.660444</td>\n",
       "      <td>7864.660444</td>\n",
       "    </tr>\n",
       "    <tr>\n",
       "      <th>7</th>\n",
       "      <td>61111.0</td>\n",
       "      <td>68686.687221</td>\n",
       "      <td>-7575.687221</td>\n",
       "      <td>7575.687221</td>\n",
       "    </tr>\n",
       "    <tr>\n",
       "      <th>8</th>\n",
       "      <td>113812.0</td>\n",
       "      <td>103143.215190</td>\n",
       "      <td>10668.784810</td>\n",
       "      <td>10668.784810</td>\n",
       "    </tr>\n",
       "    <tr>\n",
       "      <th>9</th>\n",
       "      <td>91738.0</td>\n",
       "      <td>90105.610012</td>\n",
       "      <td>1632.389988</td>\n",
       "      <td>1632.389988</td>\n",
       "    </tr>\n",
       "    <tr>\n",
       "      <th>10</th>\n",
       "      <td>46205.0</td>\n",
       "      <td>38886.446815</td>\n",
       "      <td>7318.553185</td>\n",
       "      <td>7318.553185</td>\n",
       "    </tr>\n",
       "    <tr>\n",
       "      <th>11</th>\n",
       "      <td>121872.0</td>\n",
       "      <td>124562.137981</td>\n",
       "      <td>-2690.137981</td>\n",
       "      <td>2690.137981</td>\n",
       "    </tr>\n",
       "    <tr>\n",
       "      <th>12</th>\n",
       "      <td>60150.0</td>\n",
       "      <td>54717.824531</td>\n",
       "      <td>5432.175469</td>\n",
       "      <td>5432.175469</td>\n",
       "    </tr>\n",
       "    <tr>\n",
       "      <th>13</th>\n",
       "      <td>39891.0</td>\n",
       "      <td>47267.764429</td>\n",
       "      <td>-7376.764429</td>\n",
       "      <td>7376.764429</td>\n",
       "    </tr>\n",
       "    <tr>\n",
       "      <th>14</th>\n",
       "      <td>81363.0</td>\n",
       "      <td>81724.292398</td>\n",
       "      <td>-361.292398</td>\n",
       "      <td>361.292398</td>\n",
       "    </tr>\n",
       "    <tr>\n",
       "      <th>15</th>\n",
       "      <td>93940.0</td>\n",
       "      <td>82655.549911</td>\n",
       "      <td>11284.450089</td>\n",
       "      <td>11284.450089</td>\n",
       "    </tr>\n",
       "    <tr>\n",
       "      <th>16</th>\n",
       "      <td>57189.0</td>\n",
       "      <td>61236.627120</td>\n",
       "      <td>-4047.627120</td>\n",
       "      <td>4047.627120</td>\n",
       "    </tr>\n",
       "    <tr>\n",
       "      <th>17</th>\n",
       "      <td>54445.0</td>\n",
       "      <td>56580.339556</td>\n",
       "      <td>-2135.339556</td>\n",
       "      <td>2135.339556</td>\n",
       "    </tr>\n",
       "    <tr>\n",
       "      <th>18</th>\n",
       "      <td>105582.0</td>\n",
       "      <td>110593.275291</td>\n",
       "      <td>-5011.275291</td>\n",
       "      <td>5011.275291</td>\n",
       "    </tr>\n",
       "    <tr>\n",
       "      <th>19</th>\n",
       "      <td>43525.0</td>\n",
       "      <td>45405.249404</td>\n",
       "      <td>-1880.249404</td>\n",
       "      <td>1880.249404</td>\n",
       "    </tr>\n",
       "    <tr>\n",
       "      <th>20</th>\n",
       "      <td>39343.0</td>\n",
       "      <td>37023.931790</td>\n",
       "      <td>2319.068210</td>\n",
       "      <td>2319.068210</td>\n",
       "    </tr>\n",
       "    <tr>\n",
       "      <th>21</th>\n",
       "      <td>98273.0</td>\n",
       "      <td>92899.382550</td>\n",
       "      <td>5373.617450</td>\n",
       "      <td>5373.617450</td>\n",
       "    </tr>\n",
       "    <tr>\n",
       "      <th>22</th>\n",
       "      <td>67938.0</td>\n",
       "      <td>72411.717272</td>\n",
       "      <td>-4473.717272</td>\n",
       "      <td>4473.717272</td>\n",
       "    </tr>\n",
       "    <tr>\n",
       "      <th>23</th>\n",
       "      <td>56957.0</td>\n",
       "      <td>64030.399658</td>\n",
       "      <td>-7073.399658</td>\n",
       "      <td>7073.399658</td>\n",
       "    </tr>\n",
       "  </tbody>\n",
       "</table>\n",
       "</div>"
      ],
      "text/plain": [
       "    Actual Salary (Train)  Predicted Salary (Train)  Error/Difference (Train)  \\\n",
       "0                112635.0             116180.820367              -3545.820367   \n",
       "1                 55794.0              64030.399658              -8236.399658   \n",
       "2                 83088.0              76136.747322               6951.252678   \n",
       "3                101302.0             100349.442652                952.557348   \n",
       "4                 56642.0              53786.567018               2855.432982   \n",
       "5                 66029.0              74274.232297              -8245.232297   \n",
       "6                 64445.0              56580.339556               7864.660444   \n",
       "7                 61111.0              68686.687221              -7575.687221   \n",
       "8                113812.0             103143.215190              10668.784810   \n",
       "9                 91738.0              90105.610012               1632.389988   \n",
       "10                46205.0              38886.446815               7318.553185   \n",
       "11               121872.0             124562.137981              -2690.137981   \n",
       "12                60150.0              54717.824531               5432.175469   \n",
       "13                39891.0              47267.764429              -7376.764429   \n",
       "14                81363.0              81724.292398               -361.292398   \n",
       "15                93940.0              82655.549911              11284.450089   \n",
       "16                57189.0              61236.627120              -4047.627120   \n",
       "17                54445.0              56580.339556              -2135.339556   \n",
       "18               105582.0             110593.275291              -5011.275291   \n",
       "19                43525.0              45405.249404              -1880.249404   \n",
       "20                39343.0              37023.931790               2319.068210   \n",
       "21                98273.0              92899.382550               5373.617450   \n",
       "22                67938.0              72411.717272              -4473.717272   \n",
       "23                56957.0              64030.399658              -7073.399658   \n",
       "\n",
       "    Absolute Error/Difference (Train)  \n",
       "0                         3545.820367  \n",
       "1                         8236.399658  \n",
       "2                         6951.252678  \n",
       "3                          952.557348  \n",
       "4                         2855.432982  \n",
       "5                         8245.232297  \n",
       "6                         7864.660444  \n",
       "7                         7575.687221  \n",
       "8                        10668.784810  \n",
       "9                         1632.389988  \n",
       "10                        7318.553185  \n",
       "11                        2690.137981  \n",
       "12                        5432.175469  \n",
       "13                        7376.764429  \n",
       "14                         361.292398  \n",
       "15                       11284.450089  \n",
       "16                        4047.627120  \n",
       "17                        2135.339556  \n",
       "18                        5011.275291  \n",
       "19                        1880.249404  \n",
       "20                        2319.068210  \n",
       "21                        5373.617450  \n",
       "22                        4473.717272  \n",
       "23                        7073.399658  "
      ]
     },
     "execution_count": 23,
     "metadata": {},
     "output_type": "execute_result"
    }
   ],
   "source": [
    "# Displaying the actual versus predicted salary results with its error/differnce as a pandas dataframe for the train dataset\n",
    "\n",
    "res_train_df = pd.concat([pd.Series(y_train), pd.Series(y_pred_train_LR_model), pd.Series(error_train_LR), pd.Series(abs(error_train_LR))], axis=1)\n",
    "res_train_df.columns = ['Actual Salary (Train)', 'Predicted Salary (Train)', 'Error/Difference (Train)', 'Absolute Error/Difference (Train)']\n",
    "res_train_df"
   ]
  },
  {
   "cell_type": "code",
   "execution_count": 35,
   "id": "2c51a72b-1267-4bbc-ad5a-cdc6fa5ea343",
   "metadata": {},
   "outputs": [
    {
     "data": {
      "image/png": "[encoded data removed]",
      "text/plain": [
       "<Figure size 432x288 with 1 Axes>"
      ]
     },
     "metadata": {
      "needs_background": "light"
     },
     "output_type": "display_data"
    }
   ],
   "source": [
    "# Visualising the actual salary and the linear regression best fit line salary predictions for the train dataset\n",
    "\n",
    "plt.scatter(x_train, y_train, color='blue')\n",
    "plt.plot(x_train,y_pred_train_LR_model, color='red')\n",
    "plt.xlabel('Years of Experience')\n",
    "plt.ylabel('Salary')\n",
    "plt.title('Best Fit Linear Regression Line for the Train Dataset')\n",
    "plt.savefig('output/Train-Years-of-Experience-versus-Salary-Linear-Regression-Best-Fit-Line.jpg')\n",
    "plt.show()\n",
    "plt.close()"
   ]
  },
  {
   "cell_type": "code",
   "execution_count": 36,
   "id": "d5e84672-74a3-4c8f-95e1-430a962d25ff",
   "metadata": {},
   "outputs": [
    {
     "data": {
      "image/png": "[encoded data removed]",
      "text/plain": [
       "<Figure size 432x288 with 1 Axes>"
      ]
     },
     "metadata": {
      "needs_background": "light"
     },
     "output_type": "display_data"
    }
   ],
   "source": [
    "# Visualising the actual salary and the linear regression best fit line salary predictions for the test dataset\n",
    "\n",
    "plt.scatter(x_test, y_test, color='blue')\n",
    "plt.plot(x_test,y_pred_test_LR_model, color='red')\n",
    "plt.xlabel('Years of Experience')\n",
    "plt.ylabel('Salary')\n",
    "plt.title('Best Fit Linear Regression Line for the Test Dataset')\n",
    "plt.savefig('output/Test-Years-of-Experience-versus-Salary-Linear-Regression-Best-Fit-Line.jpg')\n",
    "plt.show()\n",
    "plt.close()"
   ]
  },
  {
   "cell_type": "code",
   "execution_count": 37,
   "id": "2bcb74c4-4b8f-4e24-9a34-be68856ad355",
   "metadata": {},
   "outputs": [],
   "source": [
    "# Deriving the metrics for the linear regression model"
   ]
  },
  {
   "cell_type": "code",
   "execution_count": 38,
   "id": "6e469071-8f96-42c4-a0d2-b564b64bec4f",
   "metadata": {},
   "outputs": [
    {
     "name": "stdout",
     "output_type": "stream",
     "text": [
      "Import Completed\n"
     ]
    }
   ],
   "source": [
    "# Importing the metrics package of sklearn\n",
    "\n",
    "from sklearn import metrics\n",
    "\n",
    "print(\"Import Completed\")"
   ]
  },
  {
   "cell_type": "code",
   "execution_count": 39,
   "id": "54fbedde-75ad-4941-8570-c666743a6cd9",
   "metadata": {},
   "outputs": [
    {
     "name": "stdout",
     "output_type": "stream",
     "text": [
      "The Root Mean Squared Error (RMSE) Metric of the Linear Regression Model:  3580.979237321343\n"
     ]
    }
   ],
   "source": [
    "# Deriving the Root Mean Squared Error (RMSE) Metric\n",
    "\n",
    "RMSE_LR = np.sqrt(metrics.mean_squared_error(y_test, y_pred_test_LR_model))\n",
    "print(\"The Root Mean Squared Error (RMSE) Metric of the Linear Regression Model: \", RMSE_LR)"
   ]
  },
  {
   "cell_type": "code",
   "execution_count": 40,
   "id": "dc2aa274-d64f-45a4-89ee-91deb0d52217",
   "metadata": {},
   "outputs": [
    {
     "name": "stdout",
     "output_type": "stream",
     "text": [
      "The R2 Score Metric of the Linear Regression Model:  0.988169515729126\n"
     ]
    }
   ],
   "source": [
    "# Deriving the R2 Metric\n",
    "\n",
    "R2_LR = metrics.r2_score(y_test, y_pred_test_LR_model)\n",
    "print(\"The R2 Score Metric of the Linear Regression Model: \", R2_LR)"
   ]
  },
  {
   "cell_type": "code",
   "execution_count": 41,
   "id": "67e98602-e03d-4fd2-9656-4b40e88d96aa",
   "metadata": {},
   "outputs": [
    {
     "name": "stdout",
     "output_type": "stream",
     "text": [
      "The Predicted Salary for 3.5 years of experience is  59374.11209418034\n"
     ]
    }
   ],
   "source": [
    "# Linear Regression Model Evaluation for a sample years of experience of 3.5 years\n",
    "\n",
    "Sample_Prediction = LR_model.predict([[3.5]])\n",
    "print(\"The Predicted Salary for 3.5 years of experience is \", Sample_Prediction[0])"
   ]
  },
  {
   "cell_type": "code",
   "execution_count": null,
   "id": "5b2e467f-0e88-41ee-a73c-f0a32fcbdf51",
   "metadata": {},
   "outputs": [],
   "source": []
  }
 ],
 "metadata": {
  "kernelspec": {
   "display_name": "Python 3",
   "language": "python",
   "name": "python3"
  },
  "language_info": {
   "codemirror_mode": {
    "name": "ipython",
    "version": 3
   },
   "file_extension": ".py",
   "mimetype": "text/x-python",
   "name": "python",
   "nbconvert_exporter": "python",
   "pygments_lexer": "ipython3",
   "version": "3.8.3"
  }
 },
 "nbformat": 4,
 "nbformat_minor": 5
}
